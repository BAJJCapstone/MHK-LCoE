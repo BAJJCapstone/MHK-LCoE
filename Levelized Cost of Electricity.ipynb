{
 "cells": [
  {
   "cell_type": "code",
   "execution_count": 2,
   "metadata": {
    "collapsed": false
   },
   "outputs": [
    {
     "ename": "SyntaxError",
     "evalue": "invalid syntax (__init__.py, line 1)",
     "output_type": "error",
     "traceback": [
      "\u001b[0;36m  File \u001b[0;32m\"/Users/Cain/Code/Capstone/MHK-LCoE/Calculator/__init__.py\"\u001b[0;36m, line \u001b[0;32m1\u001b[0m\n\u001b[0;31m    import .maintenance\u001b[0m\n\u001b[0m           ^\u001b[0m\n\u001b[0;31mSyntaxError\u001b[0m\u001b[0;31m:\u001b[0m invalid syntax\n"
     ]
    }
   ],
   "source": [
    "from NOAAStations import TidalStation\n",
    "from DeviceModels import Turbine, calculate_power\n",
    "from Calculator import installation, maintenance, operation\n",
    "\n",
    "from ipywidgets import widgets, interact, fixed\n",
    "from IPython.display import display\n",
    "%matplotlib inline\n",
    "import seaborn as sbn\n",
    "import matplotlib.pyplot as plt\n",
    "import numpy as np\n",
    "from IPython.core.pylabtools import figsize\n",
    "import scipy\n",
    "import scipy.interpolate\n",
    "from contextlib import redirect_stdout\n",
    "figsize(12, 10)\n",
    "sbn.set_context(\"talk\", font_scale=1)\n"
   ]
  },
  {
   "cell_type": "code",
   "execution_count": null,
   "metadata": {
    "collapsed": true
   },
   "outputs": [],
   "source": [
    "def LevelizedCostofElectricity(station_id, \n",
    "                               grid_location,\n",
    "                               lifetime, \n",
    "                               K, Q, B, M, g,\n",
    "                               h_0,\n",
    "                               gravity,\n",
    "                               **emergency_maintentance):\n",
    "    \n",
    "    \n",
    "    MCT = Turbine(K, Q, B, M, g)\n",
    "    \n",
    "    tidal_station = TidalStation(station_id)\n",
    "    \n",
    "    emergency_events = \n",
    "                [maintenance.EmergencyMaintenance(\n",
    "                e['minimal_rate'], \n",
    "                e['midlevel_rate'], \n",
    "                e['severe_rate'],\n",
    "                e['minimal_cost'], \n",
    "                e['midlevel_cost'], \n",
    "                e['severe_cost'],\n",
    "                e['minimal_downtime'], \n",
    "                e['midlevel_downtime'], \n",
    "                e['severe_downtime'],\n",
    "                e['number'], \n",
    "                e['labor'], \n",
    "                e['partname'])\n",
    "                for e in emergency_maintentance]\n",
    "\n",
    "    #installation_cost = installation.calculateInstallation() \n",
    "        \n",
    "    time = []\n",
    "    results = []\n",
    "    end_loop = False\n",
    "    time_tracker = 0.\n",
    "    \n",
    "    maintenance_costs = []\n",
    "    maintenance_times = []\n",
    "    \n",
    "    #time to run the simulation\n",
    "    while not end_loop:\n",
    "        \n",
    "        maintenance_event, uptime = monteCarlo(emergency_events)\n",
    "        \n",
    "        if time_tracker + uptime > lifetime:\n",
    "            end_loop = True\n",
    "            uptime = lifetime - time_tracker\n",
    "        \n",
    "        \n",
    "        end_time = timetracker + uptime\n",
    "        results_array , time_array = calculate_power(tidal_station, \n",
    "                                                     MCT, \n",
    "                                                     results[-1][-1], \n",
    "                                                     time_tracker, \n",
    "                                                     end_time, \n",
    "                                                     gravity, \n",
    "                                                     h_0)\n",
    "        \n",
    "        maintenance_costs.append(maintenance_event.event_cost)\n",
    "        maintenance_times.append(time_tracker+uptime)\n",
    "        time_tracker += uptime + maintenance_event.downtime\n",
    "        results.append(results_array)\n",
    "        time.append(time_array)\n",
    "        \n",
    "    else:\n",
    "        #PUT ALL THE DATA PROCESSING HERE\n",
    "    \n",
    "    "
   ]
  },
  {
   "cell_type": "code",
   "execution_count": null,
   "metadata": {
    "collapsed": true
   },
   "outputs": [],
   "source": [
    "from SALib.sample import morris as ms\n",
    "from SALib.analyze import morris as ma\n",
    "from SALib.plotting import morris as mp\n",
    "\n",
    "from SALib.sample.saltelli import sample as ss\n",
    "from SALib.analyze.sobol import analyze as sa"
   ]
  },
  {
   "cell_type": "code",
   "execution_count": null,
   "metadata": {
    "collapsed": true
   },
   "outputs": [],
   "source": [
    "from collections import namedtuple\n",
    "Parameter = namedtuple('Parameter', 'name nominal min max description units')\n",
    "Fixed = namedtuple('Parameter', 'name value description units')\n",
    "Maintenance = namedtuple('Parameter', 'name nominal min max description units')\n",
    "\n",
    "parameters_list = [\n",
    "Parameter('K', 1200.),\n",
    "Parameter('Q', 0.184),\n",
    "Parameter('B', 3.554),\n",
    "Parameter('M', 2.307),\n",
    "Parameter('g', 1.057),\n",
    "Fixed('gravity' ,9.8, 'Earth is heavy', '$\\frac{m}{s^2}$'),\n",
    "\n",
    "Maintenance('minimal_rate', 500, 400, 510, 'blade','year^-1'),\n",
    "Maintenance('midlevel_rate', 3.5, 3, 3.6, 'blade', 'year^-1'),\n",
    "Maintenance('severe_rate', 3.5, 3, 3.6, 'blade', 'year^-1'),\n",
    "    ]\n",
    "\n",
    "parameters_dict = {i.name: i for i in parameters_list}\n",
    "\n",
    "fixed_parameter_values = {i.name: i.value for i in parameters_list if isinstance(i,Fixed)}\n",
    "\n",
    "salib_problem = {}\n",
    "variables = [i for i in parameters_list if isinstance(i,Parameter)]\n",
    "salib_problem['num_vars']=len(variables)\n",
    "salib_problem['names'] = [i.name for i in variables]\n",
    "salib_problem['bounds'] = [[i.min, i.max] for i in variables]\n",
    "salib_problem['groups'] = None\n",
    "salib_problem\n",
    "\n",
    "\n"
   ]
  }
 ],
 "metadata": {
  "anaconda-cloud": {},
  "kernelspec": {
   "display_name": "Python [conda env:py3]",
   "language": "python",
   "name": "conda-env-py3-py"
  },
  "language_info": {
   "codemirror_mode": {
    "name": "ipython",
    "version": 3
   },
   "file_extension": ".py",
   "mimetype": "text/x-python",
   "name": "python",
   "nbconvert_exporter": "python",
   "pygments_lexer": "ipython3",
   "version": "3.5.2"
  }
 },
 "nbformat": 4,
 "nbformat_minor": 1
}
