{
 "cells": [
  {
   "cell_type": "code",
   "execution_count": 2,
   "metadata": {
    "collapsed": true
   },
   "outputs": [],
   "source": [
    "import plotly.plotly as py\n",
    "import plotly.graph_objs as go\n",
    "\n",
    "# Create random data with numpy\n",
    "import numpy as np\n",
    "\n",
    "from NOAAStations import TidalStation\n",
    "\n",
    "test_station = TidalStation(8447191)\n",
    "\n",
    "time, height = test_station.predictWaterLevels(24*30)\n"
   ]
  },
  {
   "cell_type": "code",
   "execution_count": 12,
   "metadata": {
    "collapsed": false
   },
   "outputs": [
    {
     "data": {
      "text/html": [
       "<iframe id=\"igraph\" scrolling=\"no\" style=\"border:none;\" seamless=\"seamless\" src=\"https://plot.ly/~cainjason/8.embed\" height=\"525px\" width=\"100%\"></iframe>"
      ],
      "text/plain": [
       "<plotly.tools.PlotlyDisplay object>"
      ]
     },
     "execution_count": 12,
     "metadata": {},
     "output_type": "execute_result"
    }
   ],
   "source": [
    "\n",
    "trace = go.Scatter(\n",
    "    x = time/24,\n",
    "    y = height,\n",
    "    mode = 'lines',\n",
    "    name = 'lines',\n",
    "    line = dict(color = 'rgb(52, 165, 218)')\n",
    ")\n",
    "\n",
    "layout = go.Layout(\n",
    "    title = 'Water Level Height | Bournedale, Cape Cod Canal',\n",
    "    titlefont = dict(\n",
    "        size = 26,\n",
    "        color = 'rgb(131, 135, 135)'),\n",
    "    xaxis = dict(title = 'Time (Days)',\n",
    "        titlefont = dict(\n",
    "        size = 20,\n",
    "        color = 'rgb(131, 135, 135)'),\n",
    "        tickfont=dict(\n",
    "            size=16,\n",
    "            color='rgb(131, 135, 135)'\n",
    "        )),\n",
    "    yaxis = dict(title = 'Height from MLLW (Meters)',\n",
    "        titlefont = dict(\n",
    "        size = 20,\n",
    "        color = 'rgb(131, 135, 135)'),\n",
    "        tickfont=dict(\n",
    "            size=16,\n",
    "            color='rgb(131, 135, 135)'\n",
    "        )),\n",
    "    paper_bgcolor='transparent',\n",
    "    plot_bgcolor='transparent')\n",
    "\n",
    "fig = go.Figure(data = [trace], layout=layout)\n",
    "py.iplot(fig, filename='harmonicConstituent')"
   ]
  },
  {
   "cell_type": "code",
   "execution_count": null,
   "metadata": {
    "collapsed": true
   },
   "outputs": [],
   "source": []
  }
 ],
 "metadata": {
  "anaconda-cloud": {},
  "kernelspec": {
   "display_name": "Python [conda env:py3]",
   "language": "python",
   "name": "conda-env-py3-py"
  },
  "language_info": {
   "codemirror_mode": {
    "name": "ipython",
    "version": 3
   },
   "file_extension": ".py",
   "mimetype": "text/x-python",
   "name": "python",
   "nbconvert_exporter": "python",
   "pygments_lexer": "ipython3",
   "version": "3.5.2"
  }
 },
 "nbformat": 4,
 "nbformat_minor": 1
}
