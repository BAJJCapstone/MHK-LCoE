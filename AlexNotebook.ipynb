{
 "cells": [
  {
   "cell_type": "code",
   "execution_count": 1,
   "metadata": {
    "collapsed": true,
    "deletable": true,
    "editable": true
   },
   "outputs": [],
   "source": [
    "import scipy.optimize\n",
    "import numpy as np\n",
    "\n",
    "import seaborn as sbn\n",
    "import matplotlib.pyplot as plt\n",
    "import numpy as np\n",
    "from IPython.core.pylabtools import figsize\n",
    "figsize(12, 10)\n",
    "sbn.set_context(\"paper\", font_scale=1)\n",
    "sbn.set_style(\"whitegrid\")"
   ]
  },
  {
   "cell_type": "code",
   "execution_count": 12,
   "metadata": {
    "collapsed": true,
    "deletable": true,
    "editable": true
   },
   "outputs": [],
   "source": [
    "velocities = np.array([0, .5, 1, 1.3, 1.7, 2.2, 2.5, 3, 5, 10])\n",
    "power = np.array([0, 0, 200, 400, 700, 1000, 1150, 1150, 1150, 1150])"
   ]
  },
  {
   "cell_type": "code",
   "execution_count": 13,
   "metadata": {
    "collapsed": false,
    "deletable": true,
    "editable": true
   },
   "outputs": [
    {
     "name": "stderr",
     "output_type": "stream",
     "text": [
      "/Users/Cain/anaconda2/envs/py3/lib/python3.5/site-packages/ipykernel/__main__.py:2: RuntimeWarning: invalid value encountered in power\n",
      "  from ipykernel import kernelapp as app\n"
     ]
    },
    {
     "data": {
      "image/png": "[encoded data removed]",
      "text/plain": [
       "<matplotlib.figure.Figure at 0x112019c88>"
      ]
     },
     "metadata": {},
     "output_type": "display_data"
    }
   ],
   "source": [
    "def richardsCurve(Velocity, K, Q, B,M,g):\n",
    "    return K*(1+Q*np.exp(-1*B*(Velocity-M)))**(-1/g)\n",
    "\n",
    "starting_guess = (1000, 10, 1, 1, 1)\n",
    "\n",
    "optimized_parameters, covariance = scipy.optimize.curve_fit(richardsCurve, \n",
    "                                                                 xdata = velocities, \n",
    "                                                                 ydata = power, \n",
    "                                                                 p0 = starting_guess)\n",
    "x = np.linspace(0,4)\n",
    "y = richardsCurve(x, *optimized_parameters)\n",
    "x1 = np.linspace(0,4)\n",
    "y1 = richardsCurve(x, *starting_guess)\n",
    "%matplotlib inline\n",
    "from matplotlib import pyplot as plt\n",
    "\n",
    "plt.plot(x,y,label='optimized')\n",
    "plt.plot(velocities, power, 'o', label='experiment')\n",
    "plt.ylabel('Power (kW)')\n",
    "plt.xlabel('Flow Speed (m/s)')\n",
    "plt.legend(loc='best')\n",
    "plt.savefig('RichardsCurve.png', format='png', transparent=True, bbox_inches='tight')"
   ]
  },
  {
   "cell_type": "code",
   "execution_count": 17,
   "metadata": {
    "collapsed": false,
    "deletable": true,
    "editable": true
   },
   "outputs": [
    {
     "name": "stdout",
     "output_type": "stream",
     "text": [
      "[ 1164.785 , 2.834 , 2.778 , 1.020 , 0.751]\n"
     ]
    }
   ],
   "source": [
    "print('[ {0:.3f} , {1:.3f} , {2:.3f} , {3:.3f} , {4:.3f}]'.format(*optimized_parameters))"
   ]
  },
  {
   "cell_type": "code",
   "execution_count": null,
   "metadata": {
    "collapsed": true,
    "deletable": true,
    "editable": true
   },
   "outputs": [],
   "source": []
  }
 ],
 "metadata": {
  "anaconda-cloud": {},
  "kernelspec": {
   "display_name": "Python [default]",
   "language": "python",
   "name": "python3"
  },
  "language_info": {
   "codemirror_mode": {
    "name": "ipython",
    "version": 3
   },
   "file_extension": ".py",
   "mimetype": "text/x-python",
   "name": "python",
   "nbconvert_exporter": "python",
   "pygments_lexer": "ipython3",
   "version": "3.5.2"
  }
 },
 "nbformat": 4,
 "nbformat_minor": 1
}
